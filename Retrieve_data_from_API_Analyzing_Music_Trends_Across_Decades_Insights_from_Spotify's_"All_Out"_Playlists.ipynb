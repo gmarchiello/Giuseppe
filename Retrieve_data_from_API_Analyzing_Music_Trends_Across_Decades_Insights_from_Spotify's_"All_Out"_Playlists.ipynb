{
  "cells": [
    {
      "cell_type": "markdown",
      "metadata": {
        "id": "view-in-github",
        "colab_type": "text"
      },
      "source": [
        "<a href=\"https://colab.research.google.com/github/gmarchiello/Giuseppe/blob/main/Retrieve_data_from_API_Analyzing_Music_Trends_Across_Decades_Insights_from_Spotify's_%22All_Out%22_Playlists.ipynb\" target=\"_parent\"><img src=\"https://colab.research.google.com/assets/colab-badge.svg\" alt=\"Open In Colab\"/></a>"
      ]
    },
    {
      "cell_type": "markdown",
      "metadata": {
        "id": "YJPK8TDq_W1Y"
      },
      "source": [
        "# Retrieving Data - Analyzing Music Trends Across Decades: Insights from Spotify's \"All Out\" Playlists\n",
        "\n",
        "The \"All Out\" series of playlists on Spotify, such as \"All Out 80s,\" \"All Out 90s,\" etc., are carefully curated collections that highlight popular and iconic tracks from specific decades.\n",
        "\n",
        "To retrieve data for cleaning and analysis, we will use the Spotify API. We will then save the retrieved data in a JSON file for further processing.\n"
      ]
    },
    {
      "cell_type": "markdown",
      "metadata": {
        "id": "v_uBpXt0y22U"
      },
      "source": [
        "## Install Spotipy\n"
      ]
    },
    {
      "cell_type": "code",
      "execution_count": null,
      "metadata": {
        "colab": {
          "base_uri": "https://localhost:8080/"
        },
        "id": "ivHqpVTHRvmo",
        "outputId": "4cdddb7d-8f9e-4ba2-c355-a1971ab3a0ac"
      },
      "outputs": [
        {
          "output_type": "stream",
          "name": "stdout",
          "text": [
            "Collecting spotipy\n",
            "  Downloading spotipy-2.24.0-py3-none-any.whl.metadata (4.9 kB)\n",
            "Collecting redis>=3.5.3 (from spotipy)\n",
            "  Downloading redis-5.0.8-py3-none-any.whl.metadata (9.2 kB)\n",
            "Requirement already satisfied: requests>=2.25.0 in /usr/local/lib/python3.10/dist-packages (from spotipy) (2.32.3)\n",
            "Requirement already satisfied: urllib3>=1.26.0 in /usr/local/lib/python3.10/dist-packages (from spotipy) (2.0.7)\n",
            "Requirement already satisfied: async-timeout>=4.0.3 in /usr/local/lib/python3.10/dist-packages (from redis>=3.5.3->spotipy) (4.0.3)\n",
            "Requirement already satisfied: charset-normalizer<4,>=2 in /usr/local/lib/python3.10/dist-packages (from requests>=2.25.0->spotipy) (3.3.2)\n",
            "Requirement already satisfied: idna<4,>=2.5 in /usr/local/lib/python3.10/dist-packages (from requests>=2.25.0->spotipy) (3.10)\n",
            "Requirement already satisfied: certifi>=2017.4.17 in /usr/local/lib/python3.10/dist-packages (from requests>=2.25.0->spotipy) (2024.8.30)\n",
            "Downloading spotipy-2.24.0-py3-none-any.whl (30 kB)\n",
            "Downloading redis-5.0.8-py3-none-any.whl (255 kB)\n",
            "\u001b[2K   \u001b[90m━━━━━━━━━━━━━━━━━━━━━━━━━━━━━━━━━━━━━━━━\u001b[0m \u001b[32m255.6/255.6 kB\u001b[0m \u001b[31m11.7 MB/s\u001b[0m eta \u001b[36m0:00:00\u001b[0m\n",
            "\u001b[?25hInstalling collected packages: redis, spotipy\n",
            "Successfully installed redis-5.0.8 spotipy-2.24.0\n"
          ]
        }
      ],
      "source": [
        "# Spotipy is a Python library for accessing the Spotify Web API\n",
        "!pip install spotipy"
      ]
    },
    {
      "cell_type": "markdown",
      "metadata": {
        "id": "XlVFEOWdy642"
      },
      "source": [
        "## Import packages"
      ]
    },
    {
      "cell_type": "code",
      "execution_count": null,
      "metadata": {
        "id": "9Qmc7w7T4mZ1"
      },
      "outputs": [],
      "source": [
        "# Import the json module for working with JSON data\n",
        "import json\n",
        "\n",
        "# Import the spotipy library to interact with the Spotify Web API\n",
        "import spotipy\n",
        "\n",
        "import time\n",
        "\n",
        "# Import SpotifyClientCredentials from spotipy.oauth2 for authentication\n",
        "# This class is used to handle authentication with Spotify's API using client credentials\n",
        "from spotipy.oauth2 import SpotifyClientCredentials"
      ]
    },
    {
      "cell_type": "markdown",
      "metadata": {
        "id": "C-JvmyaTzCML"
      },
      "source": [
        "## Insert API credentials"
      ]
    },
    {
      "cell_type": "code",
      "execution_count": null,
      "metadata": {
        "id": "oksgbL3mK4SQ"
      },
      "outputs": [],
      "source": [
        "# Insert your Spotify API credentials\n",
        "CLIENT_ID = input('Insert your Spotify Client ID: ')\n",
        "CLIENT_SECRET = input('Insert your Spotify Client Secter: ')\n",
        "\n",
        "# Authenticate with Spotify API\n",
        "client_credentials_manager = SpotifyClientCredentials(client_id=CLIENT_ID, client_secret=CLIENT_SECRET)\n",
        "sp = spotipy.Spotify(client_credentials_manager=client_credentials_manager)"
      ]
    },
    {
      "cell_type": "markdown",
      "metadata": {
        "id": "UBuUQMdszGUz"
      },
      "source": [
        "## Select spotify \"All of\" playlist URIs\n",
        "The \"All of ...\" spotify playlist concentrate the most populare songs of a decade."
      ]
    },
    {
      "cell_type": "code",
      "execution_count": null,
      "metadata": {
        "id": "RaaRgmD3LZ_K"
      },
      "outputs": [],
      "source": [
        "#URIs of 'All Out' Playlists for each decade\n",
        "playlists = {\n",
        "    '1950s': 'spotify:playlist:37i9dQZF1DWSV3Tk4GO2fq',\n",
        "    '1960s': 'spotify:playlist:37i9dQZF1DXaKIA8E7WcJj',\n",
        "    '1970s': 'spotify:playlist:37i9dQZF1DWTJ7xPn4vNaz',\n",
        "    '1980s': 'spotify:playlist:37i9dQZF1DX4UtSsGT1Sbe',\n",
        "    '1990s': 'spotify:playlist:37i9dQZF1DXbTxeAdrVG2l',\n",
        "    '2000s': 'spotify:playlist:37i9dQZF1DX4o1oenSJRJd',\n",
        "    '2010s': 'spotify:playlist:37i9dQZF1DX5Ejj0EkURtP',\n",
        "    '2020s': 'spotify:playlist:37i9dQZF1DX2M1RktxUUHG'\n",
        "}"
      ]
    },
    {
      "cell_type": "markdown",
      "metadata": {
        "id": "VDBdBoP6fMvG"
      },
      "source": [
        "## Retrieve Data"
      ]
    },
    {
      "cell_type": "code",
      "execution_count": null,
      "metadata": {
        "id": "gsWzVb0XK7BT"
      },
      "outputs": [],
      "source": [
        "# Initialize an empty list to store information about all tracks\n",
        "all_tracks = []\n",
        "\n",
        "# Function to fetch all tracks from a playlist\n",
        "def fetch_all_tracks(playlist_uri):\n",
        "    # Fetch the initial set of tracks from the playlist\n",
        "    results = sp.playlist_tracks(playlist_uri)\n",
        "    tracks = results['items']\n",
        "    print(f\"Fetched {len(tracks)} tracks initially from {playlist_uri}\")\n",
        "\n",
        "    # Handle pagination to fetch all tracks if there are multiple pages\n",
        "    while results['next']:\n",
        "        time.sleep(1)  # Add a delay to avoid hitting the API rate limit\n",
        "        results = sp.next(results)  # Fetch the next page of results\n",
        "        tracks.extend(results['items'])  # Add new tracks to the list\n",
        "        print(f\"Fetched {len(tracks)} tracks so far from {playlist_uri}\")\n",
        "\n",
        "    return tracks\n",
        "\n",
        "# Fetch tracks from each playlist in the 'playlists' dictionary\n",
        "for decade, playlist_uri in playlists.items():\n",
        "    print(f\"Fetching tracks for the {decade} playlist\")\n",
        "    results = fetch_all_tracks(playlist_uri)\n",
        "\n",
        "    # Extract and store track information from the fetched results\n",
        "    for item in results:\n",
        "        track = item['track']\n",
        "        track_id = track['id']\n",
        "        track_name = track['name']\n",
        "        artist_name = track['artists'][0]['name']\n",
        "        artist_id = track['artists'][0]['id']\n",
        "        duration_ms = track['duration_ms']\n",
        "        popularity = track['popularity']\n",
        "        explicit = track['explicit']\n",
        "        release_date = track['album']['release_date']\n",
        "        release_year = release_date.split('-')[0]  # Extract year from release date\n",
        "\n",
        "        # Fetch artist information\n",
        "        artist_info = sp.artist(artist_id)\n",
        "        genres = artist_info['genres'] if artist_info['genres'] else ['Unknown']\n",
        "\n",
        "        # Create a dictionary with track information and append it to the list\n",
        "        track_info = {\n",
        "            'Decade': decade,\n",
        "            'Track_ID': track_id,\n",
        "            'Artist_name': artist_name,\n",
        "            'Track_name': track_name,\n",
        "            'Popularity': popularity,\n",
        "            'Explicit': explicit,\n",
        "            'Release_year': release_year,\n",
        "            'Genres': genres\n",
        "        }\n",
        "        all_tracks.append(track_info)\n",
        "    print(f\"Completed fetching {len(results)} tracks for the {decade} playlist\")\n",
        "\n",
        "# Function to fetch audio features for a list of track IDs\n",
        "def fetch_audio_features(track_ids):\n",
        "    features = sp.audio_features(tracks=track_ids)\n",
        "    return features\n",
        "\n",
        "# Fetch audio features in batches (Spotify API limitation on the number of requests)\n",
        "batch_size = 100\n",
        "all_features = []\n",
        "for i in range(0, len(all_tracks), batch_size):\n",
        "    print(f\"Fetching audio features for batch {i // batch_size + 1}\")\n",
        "    batch = [track['Track_ID'] for track in all_tracks[i:i + batch_size]]  # Create a list of track IDs for the current batch\n",
        "    audio_features = fetch_audio_features(batch)  # Fetch audio features for the batch\n",
        "    all_features.extend(audio_features)  # Append the fetched features to the list\n",
        "    time.sleep(1)  # Add a delay to avoid hitting the API rate limit\n",
        "\n",
        "# Combine track information with corresponding audio features\n",
        "for track, features in zip(all_tracks, all_features):\n",
        "    if features is not None:\n",
        "        track.update(features)  # Update the track dictionary with audio features\n",
        "\n",
        "# Print the total number of tracks fetched\n",
        "print(f\"Total tracks fetched: {len(all_tracks)}\")\n",
        "\n",
        "# Print the first few tracks to verify the fetched data\n",
        "for track in all_tracks[:10]:\n",
        "    print(track)\n",
        "\n",
        "# Calculate and print the number of tracks found per decade\n",
        "tracks_per_decade = {}\n",
        "for track in all_tracks:\n",
        "    decade = track['Decade']\n",
        "    if decade in tracks_per_decade:\n",
        "        tracks_per_decade[decade] += 1\n",
        "    else:\n",
        "        tracks_per_decade[decade] = 1\n",
        "\n",
        "for decade, count in tracks_per_decade.items():\n",
        "    print(f\"Total tracks for {decade}: {count}\")"
      ]
    },
    {
      "cell_type": "markdown",
      "metadata": {
        "id": "hW1daM9uKdBp"
      },
      "source": [
        "## Save as JSON and CSV"
      ]
    },
    {
      "cell_type": "code",
      "execution_count": null,
      "metadata": {
        "id": "EkD_WjI7R1rK"
      },
      "outputs": [],
      "source": [
        "# Save the list of track information to a JSON file\n",
        "with open('tracks.json', 'w') as f:\n",
        "    # Use json.dump() to write the 'all_tracks' list to the file in JSON format\n",
        "    # 'w' mode ensures that the file is opened for writing, and will be created if it doesn't exist\n",
        "    json.dump(all_tracks, f)"
      ]
    }
  ],
  "metadata": {
    "colab": {
      "provenance": [],
      "toc_visible": true,
      "authorship_tag": "ABX9TyOmAW4L+ta/NsGr6QyENX21",
      "include_colab_link": true
    },
    "kernelspec": {
      "display_name": "Python 3",
      "name": "python3"
    },
    "language_info": {
      "name": "python"
    }
  },
  "nbformat": 4,
  "nbformat_minor": 0
}